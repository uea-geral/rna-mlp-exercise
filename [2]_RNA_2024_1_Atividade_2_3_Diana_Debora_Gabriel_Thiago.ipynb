{
  "cells": [
    {
      "cell_type": "markdown",
      "metadata": {
        "id": "ac-Mp3etvEo8"
      },
      "source": [
        "## Redes Neurais Artificiais 2024.1\n",
        "\n",
        "- **Disciplina**: Redes Neurais Artificiais 2024.1  \n",
        "- **Professora**: Elloá B. Guedes (ebgcosta@uea.edu.br)  \n",
        "- **Github**: http://github.com/elloa  \n",
        "        \n",
        "\n",
        "Levando em conta a base de dados **_Forest Cover Type_**, esta segunda parte do Projeto Prático 2.2 diz respeito à proposição e avaliação de múltiplas redes neurais artificiais do tipo feedforward multilayer perceptron para o problema da classificação multi-classe da cobertura florestal em uma área do Roosevelt National Forest.\n",
        "\n",
        "## Testando Redes Neurais sem os Atributos Categórios\n",
        "\n",
        "1. Abra a base de dados em questão\n",
        "2. Elimine todas as colunas relativas aos atributos categóricos\n",
        "3. Armazene o atributo alvo em uma variável y e os atributos preditores em uma variável X\n",
        "4. Efetue uma partição holdout 70/30 com o sklearn, distribuindo os exemplos de maneira aleatória\n",
        "5. Efetue o escalonamento dos atributos\n",
        "\n",
        "### Escalonando os atributos\n",
        "\n",
        "O treinamento de uma rede neural artificial é mais eficiente quando os valores que lhes são fornecidos como entrada são pequenos, pois isto favorece a convergência. Isto é feito escalonando-se todos os atributos para o intervalo [0,1], mas precisa ser feito de maneira cautelosa, para que informações do conjunto de teste não sejam fornecidas no treinamento.\n",
        "\n",
        "Há duas estratégias para tal escalonamento: normalização e padronização. Ambas possuem características particulares, vantagens e limitações, como é possível ver aqui: https://www.analyticsvidhya.com/blog/2020/04/feature-scaling-machine-learning-normalization-standardization/\n",
        "\n",
        "\n",
        "No nosso caso, vamos usar a padronização. Assim, com os atributos preditores do treinamento, isto é, X_train, deve-se subtrair a média e dividir pelo desvio padrão:\n",
        "\n",
        "X_train_std = (X_train - np.mean(X_train))/np.std(X_train)\n",
        "\n",
        "Em seguida, o mesmo deve ser feito com os atributos preditores do conjunto de testes, mas com padronização relativa ao conjunto de treinamento:\n",
        "\n",
        "X_test_std = (X_test - np.mean(X_train))/np.std(X_train)\n",
        "\n",
        "Se todo o conjunto X for utilizado na padronização, a rede neural receberá informações do conjunto de teste por meio da média e variância utilizada para preparar os dados de treinamento, o que não é desejável.\n",
        "\n",
        "\n",
        "### Continuando\n",
        "\n",
        "5. Treine uma rede neural multilayer perceptron para este problema com uma única camada e dez neurônios  \n",
        "    5.1 Utilize a função de ativação ReLU  \n",
        "    5.2 Utilize o solver Adam    \n",
        "    5.3 Imprima o passo a passo do treinamento    \n",
        "    5.4 Utilize o número máximo de épocas igual a 300  \n",
        "6. Com o modelo em questão, após o treinamento, apresente:  \n",
        "    6.1 Matriz de confusão para o conjunto de teste  \n",
        "    6.2 Acurácia  \n",
        "    6.3 F-Score  \n",
        "    6.4 Precisão  \n",
        "    6.5 Revocação  \n",
        "7. Repita o treinamento da mesma rede anterior sem imprimir o passo a passo (verbose False) por 10 vezes  \n",
        "    7.1 Cada uma destas repetições deve ser feita com uma nova partição Holdout  \n",
        "    7.2 Apresente a média e o desvio padrão da acurácia e do F-Score para o conjunto de treino  \n",
        "8. Repita por 10 vezes o treinamento desta mesma rede, mas utilizando o otimizador SGD  \n",
        "    8.1 Apresente a média e o desvio padrão da acurácia e do F-Score para o conjunto de treino  \n",
        "9. Houve influência da escolha do otimizador no desempenho da rede?\n"
      ]
    },
    {
      "cell_type": "code",
      "source": [
        "! pip show seaborn"
      ],
      "metadata": {
        "colab": {
          "base_uri": "https://localhost:8080/"
        },
        "id": "dycMdq-ZVmVB",
        "outputId": "af104b9c-d96b-4614-a2f8-459b6c702658"
      },
      "execution_count": null,
      "outputs": [
        {
          "output_type": "stream",
          "name": "stdout",
          "text": [
            "Name: seaborn\n",
            "Version: 0.13.1\n",
            "Summary: Statistical data visualization\n",
            "Home-page: \n",
            "Author: \n",
            "Author-email: Michael Waskom <mwaskom@gmail.com>\n",
            "License: \n",
            "Location: /usr/local/lib/python3.10/dist-packages\n",
            "Requires: matplotlib, numpy, pandas\n",
            "Required-by: missingno\n"
          ]
        }
      ]
    },
    {
      "cell_type": "code",
      "execution_count": null,
      "metadata": {
        "id": "pyaudjLPNLj0"
      },
      "outputs": [],
      "source": [
        "# Bibliotecas necessárias\n",
        "import pandas as pd\n",
        "import numpy as np\n",
        "import matplotlib.pyplot as plt\n",
        "import seaborn as sns\n",
        "import os\n",
        "import random\n",
        "import warnings\n",
        "\n",
        "from prettytable import PrettyTable\n",
        "from sklearn.exceptions import ConvergenceWarning\n",
        "from sklearn.model_selection import train_test_split\n",
        "from sklearn.neural_network import MLPClassifier\n",
        "from sklearn.metrics import confusion_matrix, accuracy_score, f1_score, precision_score, recall_score"
      ]
    },
    {
      "cell_type": "code",
      "source": [
        "# Baixando o dataset para o diretório local\n",
        "if not os.path.isfile('covtype.csv'):\n",
        "  !kaggle datasets download -d uciml/forest-cover-type-dataset\n",
        "  !unzip forest-cover-type-dataset.zip\n",
        "  !rm *.zip"
      ],
      "metadata": {
        "id": "fNKKvNNKlsyr",
        "colab": {
          "base_uri": "https://localhost:8080/"
        },
        "outputId": "353c7663-d135-41c0-e765-ac8e60fc3c69"
      },
      "execution_count": null,
      "outputs": [
        {
          "output_type": "stream",
          "name": "stdout",
          "text": [
            "Dataset URL: https://www.kaggle.com/datasets/uciml/forest-cover-type-dataset\n",
            "License(s): unknown\n",
            "Downloading forest-cover-type-dataset.zip to /content\n",
            " 98% 11.0M/11.2M [00:00<00:00, 18.2MB/s]\n",
            "100% 11.2M/11.2M [00:00<00:00, 13.4MB/s]\n",
            "Archive:  forest-cover-type-dataset.zip\n",
            "  inflating: covtype.csv             \n"
          ]
        }
      ]
    },
    {
      "cell_type": "code",
      "execution_count": null,
      "metadata": {
        "id": "KWWLujRFvEpA",
        "colab": {
          "base_uri": "https://localhost:8080/",
          "height": 256
        },
        "outputId": "bc45209d-b425-4aa0-9fb1-323538b6ce87"
      },
      "outputs": [
        {
          "output_type": "execute_result",
          "data": {
            "text/plain": [
              "   Elevation  Aspect  Slope  Horizontal_Distance_To_Hydrology  \\\n",
              "0       2596      51      3                               258   \n",
              "1       2590      56      2                               212   \n",
              "2       2804     139      9                               268   \n",
              "3       2785     155     18                               242   \n",
              "4       2595      45      2                               153   \n",
              "\n",
              "   Vertical_Distance_To_Hydrology  Horizontal_Distance_To_Roadways  \\\n",
              "0                               0                              510   \n",
              "1                              -6                              390   \n",
              "2                              65                             3180   \n",
              "3                             118                             3090   \n",
              "4                              -1                              391   \n",
              "\n",
              "   Hillshade_9am  Hillshade_Noon  Hillshade_3pm  \\\n",
              "0            221             232            148   \n",
              "1            220             235            151   \n",
              "2            234             238            135   \n",
              "3            238             238            122   \n",
              "4            220             234            150   \n",
              "\n",
              "   Horizontal_Distance_To_Fire_Points  ...  Soil_Type32  Soil_Type33  \\\n",
              "0                                6279  ...            0            0   \n",
              "1                                6225  ...            0            0   \n",
              "2                                6121  ...            0            0   \n",
              "3                                6211  ...            0            0   \n",
              "4                                6172  ...            0            0   \n",
              "\n",
              "   Soil_Type34  Soil_Type35  Soil_Type36  Soil_Type37  Soil_Type38  \\\n",
              "0            0            0            0            0            0   \n",
              "1            0            0            0            0            0   \n",
              "2            0            0            0            0            0   \n",
              "3            0            0            0            0            0   \n",
              "4            0            0            0            0            0   \n",
              "\n",
              "   Soil_Type39  Soil_Type40  Cover_Type  \n",
              "0            0            0           5  \n",
              "1            0            0           5  \n",
              "2            0            0           2  \n",
              "3            0            0           2  \n",
              "4            0            0           5  \n",
              "\n",
              "[5 rows x 55 columns]"
            ],
            "text/html": [
              "\n",
              "  <div id=\"df-12685c9d-d2ee-4328-98fb-9dc403aa1cc0\" class=\"colab-df-container\">\n",
              "    <div>\n",
              "<style scoped>\n",
              "    .dataframe tbody tr th:only-of-type {\n",
              "        vertical-align: middle;\n",
              "    }\n",
              "\n",
              "    .dataframe tbody tr th {\n",
              "        vertical-align: top;\n",
              "    }\n",
              "\n",
              "    .dataframe thead th {\n",
              "        text-align: right;\n",
              "    }\n",
              "</style>\n",
              "<table border=\"1\" class=\"dataframe\">\n",
              "  <thead>\n",
              "    <tr style=\"text-align: right;\">\n",
              "      <th></th>\n",
              "      <th>Elevation</th>\n",
              "      <th>Aspect</th>\n",
              "      <th>Slope</th>\n",
              "      <th>Horizontal_Distance_To_Hydrology</th>\n",
              "      <th>Vertical_Distance_To_Hydrology</th>\n",
              "      <th>Horizontal_Distance_To_Roadways</th>\n",
              "      <th>Hillshade_9am</th>\n",
              "      <th>Hillshade_Noon</th>\n",
              "      <th>Hillshade_3pm</th>\n",
              "      <th>Horizontal_Distance_To_Fire_Points</th>\n",
              "      <th>...</th>\n",
              "      <th>Soil_Type32</th>\n",
              "      <th>Soil_Type33</th>\n",
              "      <th>Soil_Type34</th>\n",
              "      <th>Soil_Type35</th>\n",
              "      <th>Soil_Type36</th>\n",
              "      <th>Soil_Type37</th>\n",
              "      <th>Soil_Type38</th>\n",
              "      <th>Soil_Type39</th>\n",
              "      <th>Soil_Type40</th>\n",
              "      <th>Cover_Type</th>\n",
              "    </tr>\n",
              "  </thead>\n",
              "  <tbody>\n",
              "    <tr>\n",
              "      <th>0</th>\n",
              "      <td>2596</td>\n",
              "      <td>51</td>\n",
              "      <td>3</td>\n",
              "      <td>258</td>\n",
              "      <td>0</td>\n",
              "      <td>510</td>\n",
              "      <td>221</td>\n",
              "      <td>232</td>\n",
              "      <td>148</td>\n",
              "      <td>6279</td>\n",
              "      <td>...</td>\n",
              "      <td>0</td>\n",
              "      <td>0</td>\n",
              "      <td>0</td>\n",
              "      <td>0</td>\n",
              "      <td>0</td>\n",
              "      <td>0</td>\n",
              "      <td>0</td>\n",
              "      <td>0</td>\n",
              "      <td>0</td>\n",
              "      <td>5</td>\n",
              "    </tr>\n",
              "    <tr>\n",
              "      <th>1</th>\n",
              "      <td>2590</td>\n",
              "      <td>56</td>\n",
              "      <td>2</td>\n",
              "      <td>212</td>\n",
              "      <td>-6</td>\n",
              "      <td>390</td>\n",
              "      <td>220</td>\n",
              "      <td>235</td>\n",
              "      <td>151</td>\n",
              "      <td>6225</td>\n",
              "      <td>...</td>\n",
              "      <td>0</td>\n",
              "      <td>0</td>\n",
              "      <td>0</td>\n",
              "      <td>0</td>\n",
              "      <td>0</td>\n",
              "      <td>0</td>\n",
              "      <td>0</td>\n",
              "      <td>0</td>\n",
              "      <td>0</td>\n",
              "      <td>5</td>\n",
              "    </tr>\n",
              "    <tr>\n",
              "      <th>2</th>\n",
              "      <td>2804</td>\n",
              "      <td>139</td>\n",
              "      <td>9</td>\n",
              "      <td>268</td>\n",
              "      <td>65</td>\n",
              "      <td>3180</td>\n",
              "      <td>234</td>\n",
              "      <td>238</td>\n",
              "      <td>135</td>\n",
              "      <td>6121</td>\n",
              "      <td>...</td>\n",
              "      <td>0</td>\n",
              "      <td>0</td>\n",
              "      <td>0</td>\n",
              "      <td>0</td>\n",
              "      <td>0</td>\n",
              "      <td>0</td>\n",
              "      <td>0</td>\n",
              "      <td>0</td>\n",
              "      <td>0</td>\n",
              "      <td>2</td>\n",
              "    </tr>\n",
              "    <tr>\n",
              "      <th>3</th>\n",
              "      <td>2785</td>\n",
              "      <td>155</td>\n",
              "      <td>18</td>\n",
              "      <td>242</td>\n",
              "      <td>118</td>\n",
              "      <td>3090</td>\n",
              "      <td>238</td>\n",
              "      <td>238</td>\n",
              "      <td>122</td>\n",
              "      <td>6211</td>\n",
              "      <td>...</td>\n",
              "      <td>0</td>\n",
              "      <td>0</td>\n",
              "      <td>0</td>\n",
              "      <td>0</td>\n",
              "      <td>0</td>\n",
              "      <td>0</td>\n",
              "      <td>0</td>\n",
              "      <td>0</td>\n",
              "      <td>0</td>\n",
              "      <td>2</td>\n",
              "    </tr>\n",
              "    <tr>\n",
              "      <th>4</th>\n",
              "      <td>2595</td>\n",
              "      <td>45</td>\n",
              "      <td>2</td>\n",
              "      <td>153</td>\n",
              "      <td>-1</td>\n",
              "      <td>391</td>\n",
              "      <td>220</td>\n",
              "      <td>234</td>\n",
              "      <td>150</td>\n",
              "      <td>6172</td>\n",
              "      <td>...</td>\n",
              "      <td>0</td>\n",
              "      <td>0</td>\n",
              "      <td>0</td>\n",
              "      <td>0</td>\n",
              "      <td>0</td>\n",
              "      <td>0</td>\n",
              "      <td>0</td>\n",
              "      <td>0</td>\n",
              "      <td>0</td>\n",
              "      <td>5</td>\n",
              "    </tr>\n",
              "  </tbody>\n",
              "</table>\n",
              "<p>5 rows × 55 columns</p>\n",
              "</div>\n",
              "    <div class=\"colab-df-buttons\">\n",
              "\n",
              "  <div class=\"colab-df-container\">\n",
              "    <button class=\"colab-df-convert\" onclick=\"convertToInteractive('df-12685c9d-d2ee-4328-98fb-9dc403aa1cc0')\"\n",
              "            title=\"Convert this dataframe to an interactive table.\"\n",
              "            style=\"display:none;\">\n",
              "\n",
              "  <svg xmlns=\"http://www.w3.org/2000/svg\" height=\"24px\" viewBox=\"0 -960 960 960\">\n",
              "    <path d=\"M120-120v-720h720v720H120Zm60-500h600v-160H180v160Zm220 220h160v-160H400v160Zm0 220h160v-160H400v160ZM180-400h160v-160H180v160Zm440 0h160v-160H620v160ZM180-180h160v-160H180v160Zm440 0h160v-160H620v160Z\"/>\n",
              "  </svg>\n",
              "    </button>\n",
              "\n",
              "  <style>\n",
              "    .colab-df-container {\n",
              "      display:flex;\n",
              "      gap: 12px;\n",
              "    }\n",
              "\n",
              "    .colab-df-convert {\n",
              "      background-color: #E8F0FE;\n",
              "      border: none;\n",
              "      border-radius: 50%;\n",
              "      cursor: pointer;\n",
              "      display: none;\n",
              "      fill: #1967D2;\n",
              "      height: 32px;\n",
              "      padding: 0 0 0 0;\n",
              "      width: 32px;\n",
              "    }\n",
              "\n",
              "    .colab-df-convert:hover {\n",
              "      background-color: #E2EBFA;\n",
              "      box-shadow: 0px 1px 2px rgba(60, 64, 67, 0.3), 0px 1px 3px 1px rgba(60, 64, 67, 0.15);\n",
              "      fill: #174EA6;\n",
              "    }\n",
              "\n",
              "    .colab-df-buttons div {\n",
              "      margin-bottom: 4px;\n",
              "    }\n",
              "\n",
              "    [theme=dark] .colab-df-convert {\n",
              "      background-color: #3B4455;\n",
              "      fill: #D2E3FC;\n",
              "    }\n",
              "\n",
              "    [theme=dark] .colab-df-convert:hover {\n",
              "      background-color: #434B5C;\n",
              "      box-shadow: 0px 1px 3px 1px rgba(0, 0, 0, 0.15);\n",
              "      filter: drop-shadow(0px 1px 2px rgba(0, 0, 0, 0.3));\n",
              "      fill: #FFFFFF;\n",
              "    }\n",
              "  </style>\n",
              "\n",
              "    <script>\n",
              "      const buttonEl =\n",
              "        document.querySelector('#df-12685c9d-d2ee-4328-98fb-9dc403aa1cc0 button.colab-df-convert');\n",
              "      buttonEl.style.display =\n",
              "        google.colab.kernel.accessAllowed ? 'block' : 'none';\n",
              "\n",
              "      async function convertToInteractive(key) {\n",
              "        const element = document.querySelector('#df-12685c9d-d2ee-4328-98fb-9dc403aa1cc0');\n",
              "        const dataTable =\n",
              "          await google.colab.kernel.invokeFunction('convertToInteractive',\n",
              "                                                    [key], {});\n",
              "        if (!dataTable) return;\n",
              "\n",
              "        const docLinkHtml = 'Like what you see? Visit the ' +\n",
              "          '<a target=\"_blank\" href=https://colab.research.google.com/notebooks/data_table.ipynb>data table notebook</a>'\n",
              "          + ' to learn more about interactive tables.';\n",
              "        element.innerHTML = '';\n",
              "        dataTable['output_type'] = 'display_data';\n",
              "        await google.colab.output.renderOutput(dataTable, element);\n",
              "        const docLink = document.createElement('div');\n",
              "        docLink.innerHTML = docLinkHtml;\n",
              "        element.appendChild(docLink);\n",
              "      }\n",
              "    </script>\n",
              "  </div>\n",
              "\n",
              "\n",
              "<div id=\"df-f3d0786d-94fb-4310-beb1-77eca61de0fd\">\n",
              "  <button class=\"colab-df-quickchart\" onclick=\"quickchart('df-f3d0786d-94fb-4310-beb1-77eca61de0fd')\"\n",
              "            title=\"Suggest charts\"\n",
              "            style=\"display:none;\">\n",
              "\n",
              "<svg xmlns=\"http://www.w3.org/2000/svg\" height=\"24px\"viewBox=\"0 0 24 24\"\n",
              "     width=\"24px\">\n",
              "    <g>\n",
              "        <path d=\"M19 3H5c-1.1 0-2 .9-2 2v14c0 1.1.9 2 2 2h14c1.1 0 2-.9 2-2V5c0-1.1-.9-2-2-2zM9 17H7v-7h2v7zm4 0h-2V7h2v10zm4 0h-2v-4h2v4z\"/>\n",
              "    </g>\n",
              "</svg>\n",
              "  </button>\n",
              "\n",
              "<style>\n",
              "  .colab-df-quickchart {\n",
              "      --bg-color: #E8F0FE;\n",
              "      --fill-color: #1967D2;\n",
              "      --hover-bg-color: #E2EBFA;\n",
              "      --hover-fill-color: #174EA6;\n",
              "      --disabled-fill-color: #AAA;\n",
              "      --disabled-bg-color: #DDD;\n",
              "  }\n",
              "\n",
              "  [theme=dark] .colab-df-quickchart {\n",
              "      --bg-color: #3B4455;\n",
              "      --fill-color: #D2E3FC;\n",
              "      --hover-bg-color: #434B5C;\n",
              "      --hover-fill-color: #FFFFFF;\n",
              "      --disabled-bg-color: #3B4455;\n",
              "      --disabled-fill-color: #666;\n",
              "  }\n",
              "\n",
              "  .colab-df-quickchart {\n",
              "    background-color: var(--bg-color);\n",
              "    border: none;\n",
              "    border-radius: 50%;\n",
              "    cursor: pointer;\n",
              "    display: none;\n",
              "    fill: var(--fill-color);\n",
              "    height: 32px;\n",
              "    padding: 0;\n",
              "    width: 32px;\n",
              "  }\n",
              "\n",
              "  .colab-df-quickchart:hover {\n",
              "    background-color: var(--hover-bg-color);\n",
              "    box-shadow: 0 1px 2px rgba(60, 64, 67, 0.3), 0 1px 3px 1px rgba(60, 64, 67, 0.15);\n",
              "    fill: var(--button-hover-fill-color);\n",
              "  }\n",
              "\n",
              "  .colab-df-quickchart-complete:disabled,\n",
              "  .colab-df-quickchart-complete:disabled:hover {\n",
              "    background-color: var(--disabled-bg-color);\n",
              "    fill: var(--disabled-fill-color);\n",
              "    box-shadow: none;\n",
              "  }\n",
              "\n",
              "  .colab-df-spinner {\n",
              "    border: 2px solid var(--fill-color);\n",
              "    border-color: transparent;\n",
              "    border-bottom-color: var(--fill-color);\n",
              "    animation:\n",
              "      spin 1s steps(1) infinite;\n",
              "  }\n",
              "\n",
              "  @keyframes spin {\n",
              "    0% {\n",
              "      border-color: transparent;\n",
              "      border-bottom-color: var(--fill-color);\n",
              "      border-left-color: var(--fill-color);\n",
              "    }\n",
              "    20% {\n",
              "      border-color: transparent;\n",
              "      border-left-color: var(--fill-color);\n",
              "      border-top-color: var(--fill-color);\n",
              "    }\n",
              "    30% {\n",
              "      border-color: transparent;\n",
              "      border-left-color: var(--fill-color);\n",
              "      border-top-color: var(--fill-color);\n",
              "      border-right-color: var(--fill-color);\n",
              "    }\n",
              "    40% {\n",
              "      border-color: transparent;\n",
              "      border-right-color: var(--fill-color);\n",
              "      border-top-color: var(--fill-color);\n",
              "    }\n",
              "    60% {\n",
              "      border-color: transparent;\n",
              "      border-right-color: var(--fill-color);\n",
              "    }\n",
              "    80% {\n",
              "      border-color: transparent;\n",
              "      border-right-color: var(--fill-color);\n",
              "      border-bottom-color: var(--fill-color);\n",
              "    }\n",
              "    90% {\n",
              "      border-color: transparent;\n",
              "      border-bottom-color: var(--fill-color);\n",
              "    }\n",
              "  }\n",
              "</style>\n",
              "\n",
              "  <script>\n",
              "    async function quickchart(key) {\n",
              "      const quickchartButtonEl =\n",
              "        document.querySelector('#' + key + ' button');\n",
              "      quickchartButtonEl.disabled = true;  // To prevent multiple clicks.\n",
              "      quickchartButtonEl.classList.add('colab-df-spinner');\n",
              "      try {\n",
              "        const charts = await google.colab.kernel.invokeFunction(\n",
              "            'suggestCharts', [key], {});\n",
              "      } catch (error) {\n",
              "        console.error('Error during call to suggestCharts:', error);\n",
              "      }\n",
              "      quickchartButtonEl.classList.remove('colab-df-spinner');\n",
              "      quickchartButtonEl.classList.add('colab-df-quickchart-complete');\n",
              "    }\n",
              "    (() => {\n",
              "      let quickchartButtonEl =\n",
              "        document.querySelector('#df-f3d0786d-94fb-4310-beb1-77eca61de0fd button');\n",
              "      quickchartButtonEl.style.display =\n",
              "        google.colab.kernel.accessAllowed ? 'block' : 'none';\n",
              "    })();\n",
              "  </script>\n",
              "</div>\n",
              "\n",
              "    </div>\n",
              "  </div>\n"
            ],
            "application/vnd.google.colaboratory.intrinsic+json": {
              "type": "dataframe",
              "variable_name": "df"
            }
          },
          "metadata": {},
          "execution_count": 4
        }
      ],
      "source": [
        "# Abertura da base de dados\n",
        "df = pd.read_csv('covtype.csv')\n",
        "df.head()"
      ]
    },
    {
      "cell_type": "code",
      "execution_count": null,
      "metadata": {
        "id": "ho4a-v0zM8MG",
        "colab": {
          "base_uri": "https://localhost:8080/",
          "height": 159
        },
        "outputId": "9d1243d6-d03d-452b-a6d6-f05a0b7ae85f"
      },
      "outputs": [
        {
          "output_type": "display_data",
          "data": {
            "text/plain": [
              "Index(['Elevation', 'Aspect', 'Slope', 'Horizontal_Distance_To_Hydrology',\n",
              "       'Vertical_Distance_To_Hydrology', 'Horizontal_Distance_To_Roadways',\n",
              "       'Hillshade_9am', 'Hillshade_Noon', 'Hillshade_3pm',\n",
              "       'Horizontal_Distance_To_Fire_Points', 'Cover_Type'],\n",
              "      dtype='object')"
            ]
          },
          "metadata": {}
        },
        {
          "output_type": "stream",
          "name": "stdout",
          "text": [
            "\n",
            "Quantidade de colunas restantes após a exclusão de atributos categóricos: 11\n"
          ]
        }
      ],
      "source": [
        "# Eliminando todas as colunas relativas aos atributos categóricos (wilderness areas e soil types)\n",
        "\n",
        "filter_df = [col for col in df.columns if 'wilderness_area' not in col.lower() and 'soil_type' not in col.lower()]\n",
        "df = df[filter_df]\n",
        "\n",
        "display(df.columns)\n",
        "print(f'\\nQuantidade de colunas restantes após a exclusão de atributos categóricos: {df.shape[1]}')"
      ]
    },
    {
      "cell_type": "code",
      "source": [
        "class Logger():\n",
        "  def __init__(self, silence = False):\n",
        "    self.__content: list[str] = []\n",
        "    self.silence = silence\n",
        "\n",
        "  def reset(self):\n",
        "    self.content = []\n",
        "\n",
        "  def add(self, output: str):\n",
        "    if self.silence: return\n",
        "    self.__content.append(output)\n",
        "\n",
        "  def show(self):\n",
        "    if self.silence: return\n",
        "    for info in self.__content:\n",
        "      print(info)"
      ],
      "metadata": {
        "id": "viGBag14yqV8"
      },
      "execution_count": null,
      "outputs": []
    },
    {
      "cell_type": "code",
      "source": [
        "from itertools import product\n",
        "\n",
        "class AutoMLP:\n",
        "  def __init__(self, params: dict[str, list] | list, X, y, holdout_size=.3, scale=True, n_random_archs=10, verbose=False, logger=Logger()):\n",
        "    self.params = params\n",
        "    self.estimators = []\n",
        "    self.logger = logger\n",
        "    self.n_random_archs = n_random_archs\n",
        "\n",
        "    self.X = X\n",
        "    self.y = y\n",
        "    self.holdout_size = holdout_size\n",
        "    self.scale = scale\n",
        "\n",
        "    self.verbose = verbose\n",
        "\n",
        "  def __scale(self, X_train, X_test):\n",
        "    X_train_std = (X_train - np.mean(X_train))/np.std(X_train)\n",
        "    X_test_std = (X_test - np.mean(X_train))/np.std(X_train)\n",
        "    return X_train_std, X_test_std\n",
        "\n",
        "  def __train_test_split(self):\n",
        "    X_train, X_test, y_train, y_test = train_test_split(self.X, self.y, test_size=self.holdout_size)\n",
        "    if self.scale:\n",
        "      X_train, X_test = self.__scale(X_train, X_test)\n",
        "    return X_train, X_test, y_train, y_test\n",
        "\n",
        "  def __generate_hidden_layer_sizes_possibilities(self, n_neurons, n_hidden_layers):\n",
        "    tuples = product(range(1, n_neurons + 1), repeat=n_hidden_layers)\n",
        "    distributions = [comb for comb in tuples if sum(comb) == n_neurons]\n",
        "    return distributions\n",
        "\n",
        "  def __select_n_random_architectures(self, n = 10):\n",
        "    all_possibilities = []\n",
        "    for n_neurons in self.params['n_neurons']:\n",
        "      for n_hidden_layer in self.params['n_hidden_layer']:\n",
        "        for max_epochs in self.params['max_epochs']:\n",
        "          for solver in self.params['solver']:\n",
        "            for layers_possibilities in self.__generate_hidden_layer_sizes_possibilities(n_neurons, n_hidden_layer):\n",
        "              all_possibilities.append(dict(hidden_layer_sizes=layers_possibilities, max_iter=max_epochs, solver=solver))\n",
        "    sorted_possibilities = np.random.choice(range(len(all_possibilities)), n)\n",
        "    return [all_possibilities[index] for index in sorted_possibilities]\n",
        "\n",
        "  def fit(self, rate = 1, shuffle = False, log_verbose = True):\n",
        "    # Reiniciando a classe de logs\n",
        "    self.logger.reset()\n",
        "\n",
        "    # Gerando conjunto de treino e teste\n",
        "    x_train, x_test, y_train, y_test = self.__train_test_split()\n",
        "\n",
        "    if(type(self.params) == list):\n",
        "      random_archs = self.params\n",
        "    else:\n",
        "      # Aleatoriamente escolhe 10 diferentes arquiteturas (com diferentes parâmetros) para realizar o treinamento\n",
        "      random_archs = self.__select_n_random_architectures(self.n_random_archs)\n",
        "\n",
        "    for arch in random_archs:\n",
        "      self.logger.add(f\"Treinando nova rede [hidden_layer_sizes = {arch['hidden_layer_sizes']}, max_epochs = {arch['max_iter']}, solver = {arch['solver']}]\")\n",
        "      for index in range(rate):\n",
        "        mlp_neural_network = MLPClassifier(activation='relu',\n",
        "                                          verbose=self.verbose,\n",
        "                                           **arch)\n",
        "        # Treinando\n",
        "        warnings.simplefilter('ignore', category=ConvergenceWarning)\n",
        "        mlp_neural_network.fit(x_train, y_train)\n",
        "\n",
        "        # Calculando as métricas\n",
        "        y_pred = mlp_neural_network.predict(x_test)\n",
        "        f = f1_score(y_test, y_pred, average=\"weighted\", zero_division=0.0)\n",
        "        accuracy = accuracy_score(y_test, y_pred)\n",
        "\n",
        "        self.logger.add(f\"Iteração {index+1} [accuracy = {accuracy}, f1_score = {f}]\")\n",
        "\n",
        "        # Salvando métricas para futuro ranking\n",
        "        self.estimators.append((mlp_neural_network, accuracy, f, [x_train, x_test, y_train, y_test, y_pred]))\n",
        "\n",
        "        # Gerando novo holdout a cada iteração\n",
        "        if shuffle:\n",
        "          x_train, x_test, y_train, y_test = self.__train_test_split()\n",
        "\n",
        "    if log_verbose:\n",
        "      self.logger.show()\n",
        "\n",
        "  def get_n_best_estimators(self,top = 3):\n",
        "      self.estimators.sort(reverse=True,key = lambda estimator: (estimator[1], estimator[2]))\n",
        "      best_estimators = self.estimators[:top].copy()\n",
        "      return best_estimators\n"
      ],
      "metadata": {
        "id": "5KfZO6-ri01Y"
      },
      "execution_count": null,
      "outputs": []
    },
    {
      "cell_type": "code",
      "execution_count": null,
      "metadata": {
        "id": "Mp0qVJcBM-Ey"
      },
      "outputs": [],
      "source": [
        "# Armazenar o atributo alvo em uma variável y e os atributos preditores em uma variável X\n",
        "y = df.Cover_Type\n",
        "X = df.drop('Cover_Type', axis=1)"
      ]
    },
    {
      "cell_type": "code",
      "source": [
        "params = {\n",
        "  'hidden_layer_sizes': (10,),\n",
        "  'solver': 'adam',\n",
        "  'max_iter': 300\n",
        "}"
      ],
      "metadata": {
        "id": "5L9k6FU4TL60"
      },
      "execution_count": null,
      "outputs": []
    },
    {
      "cell_type": "code",
      "source": [
        "# A classe AutoMLP fará o holdout 70/30 com o sklearn, e o escalonamento dos atributos\n",
        "auto_mlp = AutoMLP(params=[params], X=X, y=y, holdout_size=0.30, scale=True, verbose=True)\n",
        "\n",
        "# Treinando a rede com os parâmetros\n",
        "auto_mlp.fit(log_verbose=False)"
      ],
      "metadata": {
        "id": "-jhpXs5xTFer",
        "colab": {
          "base_uri": "https://localhost:8080/"
        },
        "outputId": "a7a7d9ae-b86f-4c94-c4d8-2e490442c8d8"
      },
      "execution_count": null,
      "outputs": [
        {
          "output_type": "stream",
          "name": "stdout",
          "text": [
            "Iteration 1, loss = 1.66273210\n",
            "Iteration 2, loss = 0.92171687\n",
            "Iteration 3, loss = 0.82666422\n",
            "Iteration 4, loss = 0.78286255\n",
            "Iteration 5, loss = 0.76058203\n",
            "Iteration 6, loss = 0.74942779\n",
            "Iteration 7, loss = 0.74481601\n",
            "Iteration 8, loss = 0.74189408\n",
            "Iteration 9, loss = 0.74066936\n",
            "Iteration 10, loss = 0.73888306\n",
            "Iteration 11, loss = 0.73790036\n",
            "Iteration 12, loss = 0.73704537\n",
            "Iteration 13, loss = 0.73617320\n",
            "Iteration 14, loss = 0.73549674\n",
            "Iteration 15, loss = 0.73435615\n",
            "Iteration 16, loss = 0.73386576\n",
            "Iteration 17, loss = 0.73316373\n",
            "Iteration 18, loss = 0.73233657\n",
            "Iteration 19, loss = 0.73192147\n",
            "Iteration 20, loss = 0.73110861\n",
            "Iteration 21, loss = 0.73057768\n",
            "Iteration 22, loss = 0.72996296\n",
            "Iteration 23, loss = 0.72942367\n",
            "Iteration 24, loss = 0.72884403\n",
            "Iteration 25, loss = 0.72823742\n",
            "Iteration 26, loss = 0.72790147\n",
            "Iteration 27, loss = 0.72765336\n",
            "Iteration 28, loss = 0.72711665\n",
            "Iteration 29, loss = 0.72645897\n",
            "Iteration 30, loss = 0.72622542\n",
            "Iteration 31, loss = 0.72603774\n",
            "Iteration 32, loss = 0.72572250\n",
            "Iteration 33, loss = 0.72524460\n",
            "Iteration 34, loss = 0.72506842\n",
            "Iteration 35, loss = 0.72415043\n",
            "Iteration 36, loss = 0.72437039\n",
            "Iteration 37, loss = 0.72362052\n",
            "Iteration 38, loss = 0.72339758\n",
            "Iteration 39, loss = 0.72376464\n",
            "Iteration 40, loss = 0.72289502\n",
            "Iteration 41, loss = 0.72247968\n",
            "Iteration 42, loss = 0.72273468\n",
            "Iteration 43, loss = 0.72200489\n",
            "Iteration 44, loss = 0.72195174\n",
            "Iteration 45, loss = 0.72199319\n",
            "Iteration 46, loss = 0.72163158\n",
            "Iteration 47, loss = 0.72147071\n",
            "Iteration 48, loss = 0.72106178\n",
            "Iteration 49, loss = 0.72057360\n",
            "Iteration 50, loss = 0.72032417\n",
            "Iteration 51, loss = 0.72044191\n",
            "Iteration 52, loss = 0.71980665\n",
            "Iteration 53, loss = 0.71982859\n",
            "Iteration 54, loss = 0.71934931\n",
            "Iteration 55, loss = 0.71981286\n",
            "Iteration 56, loss = 0.71903587\n",
            "Iteration 57, loss = 0.71902692\n",
            "Iteration 58, loss = 0.71873216\n",
            "Iteration 59, loss = 0.71899851\n",
            "Iteration 60, loss = 0.71878207\n",
            "Iteration 61, loss = 0.71878376\n",
            "Iteration 62, loss = 0.71842977\n",
            "Iteration 63, loss = 0.71846123\n",
            "Iteration 64, loss = 0.71808540\n",
            "Iteration 65, loss = 0.71763488\n",
            "Iteration 66, loss = 0.71757127\n",
            "Iteration 67, loss = 0.71778959\n",
            "Iteration 68, loss = 0.71739984\n",
            "Iteration 69, loss = 0.71745202\n",
            "Iteration 70, loss = 0.71744374\n",
            "Iteration 71, loss = 0.71727577\n",
            "Iteration 72, loss = 0.71686045\n",
            "Iteration 73, loss = 0.71698958\n",
            "Iteration 74, loss = 0.71721481\n",
            "Iteration 75, loss = 0.71693447\n",
            "Iteration 76, loss = 0.71644904\n",
            "Iteration 77, loss = 0.71635550\n",
            "Iteration 78, loss = 0.71610049\n",
            "Iteration 79, loss = 0.71660846\n",
            "Iteration 80, loss = 0.71594175\n",
            "Iteration 81, loss = 0.71620573\n",
            "Iteration 82, loss = 0.71601246\n",
            "Iteration 83, loss = 0.71584461\n",
            "Iteration 84, loss = 0.71589797\n",
            "Iteration 85, loss = 0.71571023\n",
            "Iteration 86, loss = 0.71596839\n",
            "Iteration 87, loss = 0.71530046\n",
            "Iteration 88, loss = 0.71574679\n",
            "Iteration 89, loss = 0.71552192\n",
            "Iteration 90, loss = 0.71514841\n",
            "Iteration 91, loss = 0.71527886\n",
            "Iteration 92, loss = 0.71514604\n",
            "Iteration 93, loss = 0.71545699\n",
            "Iteration 94, loss = 0.71528038\n",
            "Iteration 95, loss = 0.71532581\n",
            "Iteration 96, loss = 0.71476265\n",
            "Iteration 97, loss = 0.71460199\n",
            "Iteration 98, loss = 0.71490218\n",
            "Iteration 99, loss = 0.71501446\n",
            "Iteration 100, loss = 0.71478976\n",
            "Iteration 101, loss = 0.71469698\n",
            "Iteration 102, loss = 0.71463778\n",
            "Iteration 103, loss = 0.71446360\n",
            "Iteration 104, loss = 0.71441778\n",
            "Iteration 105, loss = 0.71454875\n",
            "Iteration 106, loss = 0.71406566\n",
            "Iteration 107, loss = 0.71438438\n",
            "Iteration 108, loss = 0.71432863\n",
            "Iteration 109, loss = 0.71415619\n",
            "Iteration 110, loss = 0.71418716\n",
            "Iteration 111, loss = 0.71369784\n",
            "Iteration 112, loss = 0.71408663\n",
            "Iteration 113, loss = 0.71377525\n",
            "Iteration 114, loss = 0.71385558\n",
            "Iteration 115, loss = 0.71395871\n",
            "Iteration 116, loss = 0.71420209\n",
            "Iteration 117, loss = 0.71387334\n",
            "Iteration 118, loss = 0.71353893\n",
            "Iteration 119, loss = 0.71370116\n",
            "Iteration 120, loss = 0.71411094\n",
            "Iteration 121, loss = 0.71331969\n",
            "Iteration 122, loss = 0.71383359\n",
            "Iteration 123, loss = 0.71354710\n",
            "Iteration 124, loss = 0.71347808\n",
            "Iteration 125, loss = 0.71344563\n",
            "Iteration 126, loss = 0.71372177\n",
            "Iteration 127, loss = 0.71330415\n",
            "Iteration 128, loss = 0.71286522\n",
            "Iteration 129, loss = 0.71191170\n",
            "Iteration 130, loss = 0.71215513\n",
            "Iteration 131, loss = 0.71175591\n",
            "Iteration 132, loss = 0.71189332\n",
            "Iteration 133, loss = 0.71154396\n",
            "Iteration 134, loss = 0.71117972\n",
            "Iteration 135, loss = 0.71142195\n",
            "Iteration 136, loss = 0.71114220\n",
            "Iteration 137, loss = 0.71153574\n",
            "Iteration 138, loss = 0.71087528\n",
            "Iteration 139, loss = 0.71122163\n",
            "Iteration 140, loss = 0.71110973\n",
            "Iteration 141, loss = 0.71144865\n",
            "Iteration 142, loss = 0.71104210\n",
            "Iteration 143, loss = 0.71125546\n",
            "Iteration 144, loss = 0.71138597\n",
            "Iteration 145, loss = 0.71087086\n",
            "Iteration 146, loss = 0.71099911\n",
            "Iteration 147, loss = 0.71092741\n",
            "Iteration 148, loss = 0.71121428\n",
            "Iteration 149, loss = 0.71076231\n",
            "Iteration 150, loss = 0.71087569\n",
            "Iteration 151, loss = 0.71109576\n",
            "Iteration 152, loss = 0.71047614\n",
            "Iteration 153, loss = 0.71067246\n",
            "Iteration 154, loss = 0.71054162\n",
            "Iteration 155, loss = 0.71058696\n",
            "Iteration 156, loss = 0.71090379\n",
            "Iteration 157, loss = 0.71081401\n",
            "Iteration 158, loss = 0.71052001\n",
            "Iteration 159, loss = 0.71062544\n",
            "Iteration 160, loss = 0.71047463\n",
            "Iteration 161, loss = 0.71042429\n",
            "Iteration 162, loss = 0.71044129\n",
            "Iteration 163, loss = 0.71055567\n",
            "Training loss did not improve more than tol=0.000100 for 10 consecutive epochs. Stopping.\n"
          ]
        }
      ]
    },
    {
      "cell_type": "code",
      "source": [
        "# Matriz de confusão para o conjunto de teste\n",
        "\n",
        "def show_metrics(y_test, prediction):\n",
        "\n",
        "    # Matriz de Confusão\n",
        "    cm = confusion_matrix(y_test, prediction)\n",
        "    plt.figure(figsize=(10,8))\n",
        "    plt.title('Matriz de confusão')\n",
        "    sns.heatmap(cm, annot=True, fmt='.0f', cmap='Blues')\n",
        "    plt.show()\n",
        "\n",
        "    # Acurácia\n",
        "    acc = accuracy_score(y_test, prediction)\n",
        "    print(f\"\\nAcurácia: {acc}\")\n",
        "\n",
        "    # F1-Score\n",
        "    f_score = f1_score(y_test, prediction, average='weighted')\n",
        "    print(f\"\\nF-Score: {f_score}\")\n",
        "\n",
        "    # Precisão\n",
        "    precision = precision_score(y_test, prediction, average='weighted')\n",
        "    print(f\"\\nPrecisão: {precision}\")\n",
        "\n",
        "    # 6.5 Revocação\n",
        "    recall = recall_score(y_test, prediction, average='weighted')\n",
        "    print(f\"\\nRevocação: {recall}\")"
      ],
      "metadata": {
        "id": "5BCIooN4BuOV"
      },
      "execution_count": null,
      "outputs": []
    },
    {
      "cell_type": "code",
      "source": [
        "_, _, _, y_test, y_pred  = auto_mlp.get_n_best_estimators(1)[0][3]\n",
        "show_metrics(y_test, y_pred)"
      ],
      "metadata": {
        "colab": {
          "base_uri": "https://localhost:8080/",
          "height": 893
        },
        "id": "5cVf-ADkVgha",
        "outputId": "a6dddefa-67da-43ce-d3ac-e0d63217dcc0"
      },
      "execution_count": null,
      "outputs": [
        {
          "output_type": "display_data",
          "data": {
            "text/plain": [
              "<Figure size 1000x800 with 2 Axes>"
            ],
            "image/png": "[encoded data removed]"
          },
          "metadata": {}
        },
        {
          "output_type": "stream",
          "name": "stdout",
          "text": [
            "\n",
            "Acurácia: 0.6946885900495686\n",
            "\n",
            "F-Score: 0.6825399561868359\n",
            "\n",
            "Precisão: 0.6735816074440176\n",
            "\n",
            "Revocação: 0.6946885900495686\n"
          ]
        },
        {
          "output_type": "stream",
          "name": "stderr",
          "text": [
            "/usr/local/lib/python3.10/dist-packages/sklearn/metrics/_classification.py:1344: UndefinedMetricWarning: Precision is ill-defined and being set to 0.0 in labels with no predicted samples. Use `zero_division` parameter to control this behavior.\n",
            "  _warn_prf(average, modifier, msg_start, len(result))\n"
          ]
        }
      ]
    },
    {
      "cell_type": "code",
      "source": [
        "def print_architectures(architectures):\n",
        "    table = PrettyTable()\n",
        "    table.field_names = [\"hidden layer sizes\", \"max epochs\", \"solver\", \"Accuracy\", \"F1 Score\"]\n",
        "    table.title = f\"Architectures Metrics\"\n",
        "\n",
        "    for arch in architectures:\n",
        "      accuracy_list = []\n",
        "      f1_list = []\n",
        "      params = arch['params']\n",
        "      for estimator in arch['output']:\n",
        "        accuracy_list.append(estimator[1])\n",
        "        f1_list.append(estimator[2])\n",
        "\n",
        "      acc_mean = np.mean(accuracy_list)\n",
        "      acc_std = np.std(accuracy_list)\n",
        "\n",
        "      f1_mean = np.mean(f1_list)\n",
        "      f1_std = np.std(f1_list)\n",
        "\n",
        "      table.add_row([f\"{params['hidden_layer_sizes']}\", f\"{params['max_iter']}\", f\"{params['solver']}\", f\"{'%.2f'%acc_mean} ± {'%.2f'%acc_std}\", f\"{'%.2f'%f1_mean} ± {'%.2f'%f1_std}\"])\n",
        "      # table.add_row([\"\", \"\", \"\", \"\", \"\"])\n",
        "\n",
        "    print(table)"
      ],
      "metadata": {
        "id": "jUEz9eEE5YAb"
      },
      "execution_count": null,
      "outputs": []
    },
    {
      "cell_type": "code",
      "source": [
        "# Repetindo o treinamento da mesma rede anterior sem imprimir o passo a passo (verbose False) por 10 vezes\n",
        "\n",
        "# A classe AutoMLP fará o holdout 70/30 com o sklearn, e o escalonamento dos atributos\n",
        "auto_mlp = AutoMLP(params=[params], X=X, y=y, holdout_size=0.30, scale=True, verbose=False)\n",
        "# Treinando a rede 10 vezes com shuffle=True para criar uma nova partição Holdout a cada execução\n",
        "auto_mlp.fit(rate=10, shuffle=True, log_verbose=False)\n",
        "\n",
        "# Média e desvio padrão da acurácia e do F-Score\n",
        "print_architectures([dict(params=params, output=auto_mlp.estimators)])"
      ],
      "metadata": {
        "id": "ML2qu94MXcK6"
      },
      "execution_count": null,
      "outputs": []
    },
    {
      "cell_type": "code",
      "source": [
        "# Repetir por 10 vezes o treinamento desta mesma rede, mas utilizando o otimizador SGD\n",
        "params = {\n",
        "  'hidden_layer_sizes': (10,),\n",
        "  'solver': 'sgd',\n",
        "  'max_iter': 300\n",
        "}\n",
        "\n",
        "# A classe AutoMLP fará o holdout 70/30 com o sklearn, e o escalonamento dos atributos\n",
        "auto_mlp = AutoMLP(params=[params], X=X, y=y, holdout_size=0.30, scale=True, verbose=False)\n",
        "# Treinando a rede 10 vezes com shuffle=True para criar uma nova partição Holdout a cada execução\n",
        "auto_mlp.fit(rate=10, shuffle=True, log_verbose=False)\n",
        "\n",
        "# Média e desvio padrão da acurácia e do F-Score\n",
        "print_architectures([dict(params=params, output=auto_mlp.estimators)])"
      ],
      "metadata": {
        "id": "JwguIm73ZYbQ"
      },
      "execution_count": null,
      "outputs": []
    },
    {
      "cell_type": "markdown",
      "source": [
        "### Houve influência da escolha do otimizador no desempenho da rede?\n",
        "\n",
        "Com o otimizador SGD, a rede teve um melhor desempenho, isso se deve ao fato de que o SGD é um bom otimizador para problemas de classificação binária ou multiclasse, especialmente quando se lida com grandes conjuntos de dados. Sua principal vantagem reside na velocidade de convergência, superando o Adam em muitos casos. Já o otimizador Adam, particularmente adequado para pequenos conjuntos de dados, utiliza estimativas adaptativas do primeiro e segundo momentos para atualizar os pesos da rede, resultando em uma convergência mais rápida para o mínimo global."
      ],
      "metadata": {
        "id": "MFLjZm6PbOAU"
      }
    },
    {
      "cell_type": "markdown",
      "metadata": {
        "id": "6hcIp76COrjg",
        "outputId": "a626f484-224d-4db5-a50b-9aeec78e4839"
      },
      "source": [
        "## Discussão\n",
        "\n",
        "Nos passos anteriores, você avaliou o desempenho de uma única rede neural que contém os seguintes parâmetros: uma única camada oculta com 10 neurônios e função de ativação ReLU. O otimizador utilizado, quer seja SGD ou ADAM, trata-se do algoritmo para aproximar o gradiente do erro. Neste sentido, a escolha do otimizador é um hiperparâmetro, pois diz respeito a como a rede neural definida previamente atuará \"em tempo de execução\"  durante o processo de treinamento. Também são hiperparâmetros a quantidade de épocas, a taxa de aprendizado inicial, dentre outros.\n",
        "\n",
        "Cabe alientar também que você efetuou o treinamento desta rede por 10 vezes e apresentou os resultados em termos de média +- desvio padrão. Lembre-se que em uma rede neural há a inicialização aleatória de pesos e, em consequência, o desempenho delas está sujeito à uma flutuação estocástica. A execução destas múltiplas vezes faz com que eliminemos algum viés introduzido por uma boa ou má \"sorte\" na escolha de pesos no caso de uma única execução.\n",
        "\n",
        "Você também aprendeu uma estratégia para escalonar os atributos para uma melhor convergência da rede. Utilize-a em todos os treinamentos e testes propostos a seguir.\n",
        "\n",
        "## Propondo Novas Arquiteturas\n",
        "\n",
        "Variando  os parâmetros (uma ou duas camadas ocultas, com diferente números de neurônios em cada uma delas e a função de ativação) e o hiperparâmetros solver (Adam ou SGD) e o número de épocas (100,150 e 200), atenda ao que se pede:\n",
        "\n",
        "1. Proponha 10 arquiteturas distintas de RNAs para o problema em questão, à sua escolha\n",
        "2. Avalie cada uma das arquiteturas perante todos os hiperparâmetros apresentados por 100 vezes\n",
        "3. Como resultado da avaliação, apresente:  \n",
        "    3.1 Top-3 melhores redes no tocante à F-Score e Acurácia  \n",
        "    3.2 Repetição em que houve o melhor desempenho de cada uma dessas redes: ilustre tp, tf, fp e fn  "
      ]
    },
    {
      "cell_type": "markdown",
      "source": [
        "#### Preparando as funções utilitárias e hiperparâmetros"
      ],
      "metadata": {
        "id": "lZB86D5wkias"
      }
    },
    {
      "cell_type": "code",
      "source": [
        "def print_best_estimators(top_estimators):\n",
        "    table = PrettyTable()\n",
        "    table.field_names = [\"hidden layer sizes\", \"max epochs\", \"solver\", \"Accuracy\", \"F1 Score\"]\n",
        "    table.title = f\"top {len(top_estimators)} estimator(s)\"\n",
        "    for estimator in top_estimators:\n",
        "        params = estimator[0].get_params()\n",
        "        table.add_row(\n",
        "            [\n",
        "                params[\"hidden_layer_sizes\"],\n",
        "                params[\"max_iter\"],\n",
        "                params[\"solver\"],\n",
        "                f\"{'%.2f'%estimator[1]}\",\n",
        "                f\"{'%.2f'%estimator[2]}\",\n",
        "            ]\n",
        "        )\n",
        "    print(table, end=\"\\n\\n\")"
      ],
      "metadata": {
        "id": "sSMN33wzgef6"
      },
      "execution_count": null,
      "outputs": []
    },
    {
      "cell_type": "code",
      "source": [
        "# Definindo parâmetros...\n",
        "params = {\n",
        "    'n_neurons': [10, 20, 30],\n",
        "    'n_hidden_layer': [1, 2],\n",
        "    'max_epochs': [100, 150, 200],\n",
        "    'solver': ['adam', 'sgd']\n",
        "}"
      ],
      "metadata": {
        "id": "CSzGgLVjmWzk"
      },
      "execution_count": null,
      "outputs": []
    },
    {
      "cell_type": "code",
      "source": [
        "# a classe AutoMLP irá gerar as 10 arquiteturas aleatórias com base nas possibilidades da variável params\n",
        "auto_mlp = AutoMLP(params=params, X=X, y=y, holdout_size=0.30, n_random_archs=10, scale=True)\n",
        "\n",
        "# Treinando cada arquitetura por 10 vezes\n",
        "auto_mlp.fit(rate=10)"
      ],
      "metadata": {
        "id": "E9v6uUPsm86E"
      },
      "execution_count": null,
      "outputs": []
    },
    {
      "cell_type": "code",
      "source": [
        "top_3_estimators = auto_mlp.get_n_best_estimators()\n",
        "print_best_estimators(top_3_estimators)"
      ],
      "metadata": {
        "id": "roICiMbS2j_W"
      },
      "execution_count": null,
      "outputs": []
    },
    {
      "cell_type": "code",
      "source": [
        "def print_classes(array):\n",
        "  return \", \".join(str(i) for i in array)\n",
        "\n",
        "def calculate_performance_measurement(estimators, x_test, y_test, title=\"Métricas dos Top 3 Modelos (para todas as classes)\"):\n",
        "  table = PrettyTable()\n",
        "  table.title = title\n",
        "  table.field_names = ['Rede', 'True Positive', 'True Negative', 'False Positive', 'False Negative']\n",
        "  for estimator in estimators:\n",
        "    nn = estimator[0]\n",
        "    y_pred = nn.predict(x_test)\n",
        "    cm = confusion_matrix(y_test, y_pred)\n",
        "    TP = np.diag(cm)\n",
        "    FP = cm.sum(axis=0) - np.diag(cm)\n",
        "    FN = cm.sum(axis=1) - np.diag(cm)\n",
        "    TN = cm.sum() - (FP + FN + TP)\n",
        "    table.add_row([f'{nn}', print_classes(TP), print_classes(TN), print_classes(FP), print_classes(FN)])\n",
        "  print(table)"
      ],
      "metadata": {
        "id": "sTXnux-Es4-f"
      },
      "execution_count": null,
      "outputs": []
    },
    {
      "cell_type": "code",
      "source": [
        "top_3_estimators = auto_mlp.get_n_best_estimators()\n",
        "_, X_test_std, _, y_test, _  = top_3_estimators[0][3]\n",
        "\n",
        "calculate_performance_measurement(top_3_estimators, X_test_std, y_test)"
      ],
      "metadata": {
        "id": "CWZyI8Hd6MAZ"
      },
      "execution_count": null,
      "outputs": []
    },
    {
      "cell_type": "markdown",
      "metadata": {
        "id": "Hgh3XOK6vEpB"
      },
      "source": [
        "## Estimando o número de neurônios\n",
        "\n",
        "Um dos problemas de pesquisa com redes neurais artificiais consiste na determinação do número de neurônios em sua arquitetura. Embora não seja possível definir a priori qual rede neural é adequada para um problema, pois isto só é possível mediante uma busca exaustiva, há regras na literatura que sugerem o número de neurônios escondidos, tal como a regra da Pirâmide Geométrica, dada a seguir:\n",
        "\n",
        "$$N_h = \\alpha \\cdot \\sqrt{N_i \\cdot N_o},$$\n",
        "\n",
        "em que $N_h$ é o número de neurônios ocultos (a serem distribuídos em uma ou duas camadas ocultas), $N_i$ é o número de neurônios na camada de entrada e $N_o$ é o número de neurônios na camada de saída.\n",
        "\n",
        "1. Consulte a documentação da classe MLPClassifier (disponível em https://scikit-learn.org/stable/modules/generated/sklearn.neural_network.MLPClassifier.html) e obtenha os valores de $N_i$ e $N_o$.\n",
        "2. Teste os valores de $\\alpha$ como sendo iguais a $0.5$, $2$ e $3$.\n",
        "3. Proponha pelo menos 30 redes neurais segundo a regra da pirâmide geométrica e teste-as nos mesmos termos estabelecidos anterioremente  (solver, épocas, etc.)  \n",
        "    3.1 Apresente as top-3 melhores redes no tocante à F-Score e Acurácia  "
      ]
    },
    {
      "cell_type": "code",
      "source": [
        "# Número de neurônios na camada de entrada e de saída\n",
        "Ni = len(X.columns)\n",
        "No = len(y.unique())\n",
        "\n",
        "print(f\"{Ni} neurônio[s] de entrada\")\n",
        "print(f\"{No} neurônio[s] de saída\")"
      ],
      "metadata": {
        "id": "rYHWrvgNykUL"
      },
      "execution_count": null,
      "outputs": []
    },
    {
      "cell_type": "code",
      "source": [
        "# Número de neurônios ocultos\n",
        "Nh = []\n",
        "for α in [0.5, 2 , 3]:\n",
        "  Nh.append(int(np.round(α * np.sqrt(Ni * No))))\n",
        "\n",
        "Nh"
      ],
      "metadata": {
        "id": "kXlGFThP6vEv"
      },
      "execution_count": null,
      "outputs": []
    },
    {
      "cell_type": "code",
      "source": [
        "# Definindo parâmetros...\n",
        "params = {\n",
        "    'n_neurons': Nh,\n",
        "    'n_hidden_layer': [1, 2],\n",
        "    'max_epochs': [100, 150, 200],\n",
        "    'solver': ['adam', 'sgd']\n",
        "}"
      ],
      "metadata": {
        "id": "442uhhIKDSPE"
      },
      "execution_count": null,
      "outputs": []
    },
    {
      "cell_type": "code",
      "source": [
        "# Instanciândo MLP\n",
        "auto_mlp = AutoMLP(params=params, X=X, y=y, holdout_size=0.30, n_random_archs=30, scale=True)\n",
        "\n",
        "# Treinando cada arquitetura por 10 vezes\n",
        "auto_mlp.fit(rate=10)"
      ],
      "metadata": {
        "id": "5miqlwIIUaU2"
      },
      "execution_count": null,
      "outputs": []
    },
    {
      "cell_type": "code",
      "source": [
        "# Imprimindo os melhores estimators\n",
        "top_3_estimators_2 = auto_mlp.get_n_best_estimators()\n",
        "print_best_estimators(top_3_estimators_2)"
      ],
      "metadata": {
        "id": "FzYAIMrvVEby"
      },
      "execution_count": null,
      "outputs": []
    },
    {
      "cell_type": "markdown",
      "metadata": {
        "id": "fCZ6TOqYvEpB"
      },
      "source": [
        "## Testando as Redes Neurais com Atributos Categóricos\n",
        "\n",
        "1. Considere as 6 redes neurais obtidas nos dois top-3 anteriores (arquiteturas próprias e regra da pirâmide geométrica)\n",
        "2. Com todos os atributos preditores da base de dados original, incluindo os categóricos, treine e teste estas mesmas redes por 10 repetições  \n",
        "    2.1 Considere o melhor otimizador para cada uma delas  \n",
        "    2.2 Faça uso de 200 épocas para treinamento  \n",
        "    2.2 Apresente os resultados de acurácia e F-Score em termos da média +- dp para cada arquitetura\n",
        "3. Apresente o gráfico boxplot para o F-Score das 6 arquiteturas perante as 10 repetições"
      ]
    },
    {
      "cell_type": "code",
      "execution_count": null,
      "metadata": {
        "id": "RD4hSfBJvEpC"
      },
      "outputs": [],
      "source": [
        "# Juntando as listas dos melhores estimators\n",
        "top_6_estimators = top_3_estimators.copy()\n",
        "top_6_estimators.extend(top_3_estimators_2)\n",
        "\n",
        "# Salvando os hiperparâmetros dos melhores estimators\n",
        "best_estimators = []\n",
        "for estimator in top_6_estimators:\n",
        "  parameters = estimator[0].get_params()\n",
        "  # max_iter = 200 >> configurando para rodar por 200 épocas\n",
        "  best_estimators.append(dict(hidden_layer_sizes=parameters[\"hidden_layer_sizes\"], max_iter=200, solver=parameters[\"solver\"]))"
      ]
    },
    {
      "cell_type": "code",
      "source": [
        "results_list = []\n",
        "# Iterando por todos os estimators\n",
        "for params in best_estimators:\n",
        "  # Instanciândo executando MLP\n",
        "  auto_mlp = AutoMLP(params=[params], X=X, y=y, holdout_size=0.30, scale=False)\n",
        "  auto_mlp.fit(rate=10)\n",
        "  # Armazenando o resultado de Acurária e F1-score das 10 iterações de execução\n",
        "  results_list.append(dict(params=params, output=auto_mlp.estimators, best_estimator=auto_mlp.get_n_best_estimators(1)))"
      ],
      "metadata": {
        "id": "AqxtWQqq2E3w"
      },
      "execution_count": null,
      "outputs": []
    },
    {
      "cell_type": "code",
      "source": [
        "# Resultados com média e desvio padrão de acordo com cada arquitetura\n",
        "print_architectures(results_list)"
      ],
      "metadata": {
        "id": "5-gwzpfU-exT"
      },
      "execution_count": null,
      "outputs": []
    },
    {
      "cell_type": "code",
      "source": [
        "# boxplot para o F-Score das 6 arquiteturas perante as 10 repetições\n",
        "\n",
        "def plot_f_score(architectures):\n",
        "\n",
        "  fig, axs = plt.subplots(nrows=2, ncols=3, figsize=(18, 16))\n",
        "  ax = axs.flatten()\n",
        "  plt.suptitle(\"Boxplot dos F-score's\", fontsize=24)\n",
        "  current_index = 0\n",
        "\n",
        "  for arch in architectures:\n",
        "    f1_list = []\n",
        "    for estimator in arch[\"output\"]:\n",
        "      f1_list.append(estimator[2])\n",
        "    sns.boxplot(f1_list, ax=ax[current_index])\n",
        "    ax[current_index].set_title(arch[\"params\"], fontsize=10)\n",
        "    ax[current_index].set_ylabel('')\n",
        "    current_index += 1\n",
        "\n",
        "  plt.tight_layout(rect=[0, 0, 1, 0.96])\n",
        "  plt.show()"
      ],
      "metadata": {
        "id": "pLEIz3WB-fCm"
      },
      "execution_count": null,
      "outputs": []
    },
    {
      "cell_type": "code",
      "source": [
        "plot_f_score(results_list)"
      ],
      "metadata": {
        "id": "2kk25c8dk82Y"
      },
      "execution_count": null,
      "outputs": []
    },
    {
      "cell_type": "markdown",
      "metadata": {
        "id": "KtWwOklRvEpC"
      },
      "source": [
        "## Considerações Parciais\n",
        "\n",
        "1. É possível identificar uma rede com desempenho superior às demais?\n",
        "2. Qual estratégia mostrou-se mais producente para a obtenção de boas arquiteturas (Estratégia Própria ou Pirâmide Geométrica)? Por quê?\n",
        "3. Considerar os atributos categóricos trouxe melhorias? Justifique.\n",
        "4. Um número maior de épocas trouxe melhorias?\n",
        "5. Qual a maior dificuldade de resolução do problema proposto perante as RNAs?"
      ]
    },
    {
      "cell_type": "code",
      "execution_count": null,
      "metadata": {
        "id": "ErGKjPipOrGV"
      },
      "outputs": [],
      "source": []
    }
  ],
  "metadata": {
    "accelerator": "GPU",
    "colab": {
      "provenance": []
    },
    "kernelspec": {
      "display_name": "Python 3",
      "language": "python",
      "name": "python3"
    },
    "language_info": {
      "codemirror_mode": {
        "name": "ipython",
        "version": 3
      },
      "file_extension": ".py",
      "mimetype": "text/x-python",
      "name": "python",
      "nbconvert_exporter": "python",
      "pygments_lexer": "ipython3",
      "version": "3.6.9"
    }
  },
  "nbformat": 4,
  "nbformat_minor": 0
}